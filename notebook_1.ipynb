{
  "nbformat": 4,
  "nbformat_minor": 0,
  "metadata": {
    "colab": {
      "provenance": []
    },
    "kernelspec": {
      "name": "python3",
      "display_name": "Python 3"
    },
    "language_info": {
      "name": "python"
    }
  },
  "cells": [
    {
      "cell_type": "code",
      "execution_count": 1,
      "metadata": {
        "colab": {
          "base_uri": "https://localhost:8080/"
        },
        "id": "0SuAdJbkulvr",
        "outputId": "1b47d026-0765-458f-eded-114a16295747"
      },
      "outputs": [
        {
          "output_type": "stream",
          "name": "stdout",
          "text": [
            "Collecting python-binance\n",
            "  Downloading python_binance-1.0.29-py2.py3-none-any.whl.metadata (13 kB)\n",
            "Requirement already satisfied: requests in /usr/local/lib/python3.11/dist-packages (from python-binance) (2.32.3)\n",
            "Requirement already satisfied: six in /usr/local/lib/python3.11/dist-packages (from python-binance) (1.17.0)\n",
            "Collecting dateparser (from python-binance)\n",
            "  Downloading dateparser-1.2.2-py3-none-any.whl.metadata (29 kB)\n",
            "Requirement already satisfied: aiohttp in /usr/local/lib/python3.11/dist-packages (from python-binance) (3.11.15)\n",
            "Requirement already satisfied: websockets in /usr/local/lib/python3.11/dist-packages (from python-binance) (15.0.1)\n",
            "Collecting pycryptodome (from python-binance)\n",
            "  Downloading pycryptodome-3.23.0-cp37-abi3-manylinux_2_17_x86_64.manylinux2014_x86_64.whl.metadata (3.4 kB)\n",
            "Requirement already satisfied: aiohappyeyeballs>=2.3.0 in /usr/local/lib/python3.11/dist-packages (from aiohttp->python-binance) (2.6.1)\n",
            "Requirement already satisfied: aiosignal>=1.1.2 in /usr/local/lib/python3.11/dist-packages (from aiohttp->python-binance) (1.3.2)\n",
            "Requirement already satisfied: attrs>=17.3.0 in /usr/local/lib/python3.11/dist-packages (from aiohttp->python-binance) (25.3.0)\n",
            "Requirement already satisfied: frozenlist>=1.1.1 in /usr/local/lib/python3.11/dist-packages (from aiohttp->python-binance) (1.7.0)\n",
            "Requirement already satisfied: multidict<7.0,>=4.5 in /usr/local/lib/python3.11/dist-packages (from aiohttp->python-binance) (6.6.3)\n",
            "Requirement already satisfied: propcache>=0.2.0 in /usr/local/lib/python3.11/dist-packages (from aiohttp->python-binance) (0.3.2)\n",
            "Requirement already satisfied: yarl<2.0,>=1.17.0 in /usr/local/lib/python3.11/dist-packages (from aiohttp->python-binance) (1.20.1)\n",
            "Requirement already satisfied: python-dateutil>=2.7.0 in /usr/local/lib/python3.11/dist-packages (from dateparser->python-binance) (2.9.0.post0)\n",
            "Requirement already satisfied: pytz>=2024.2 in /usr/local/lib/python3.11/dist-packages (from dateparser->python-binance) (2025.2)\n",
            "Requirement already satisfied: regex>=2024.9.11 in /usr/local/lib/python3.11/dist-packages (from dateparser->python-binance) (2024.11.6)\n",
            "Requirement already satisfied: tzlocal>=0.2 in /usr/local/lib/python3.11/dist-packages (from dateparser->python-binance) (5.3.1)\n",
            "Requirement already satisfied: charset-normalizer<4,>=2 in /usr/local/lib/python3.11/dist-packages (from requests->python-binance) (3.4.2)\n",
            "Requirement already satisfied: idna<4,>=2.5 in /usr/local/lib/python3.11/dist-packages (from requests->python-binance) (3.10)\n",
            "Requirement already satisfied: urllib3<3,>=1.21.1 in /usr/local/lib/python3.11/dist-packages (from requests->python-binance) (2.4.0)\n",
            "Requirement already satisfied: certifi>=2017.4.17 in /usr/local/lib/python3.11/dist-packages (from requests->python-binance) (2025.6.15)\n",
            "Downloading python_binance-1.0.29-py2.py3-none-any.whl (130 kB)\n",
            "\u001b[2K   \u001b[90m━━━━━━━━━━━━━━━━━━━━━━━━━━━━━━━━━━━━━━━━\u001b[0m \u001b[32m130.8/130.8 kB\u001b[0m \u001b[31m5.9 MB/s\u001b[0m eta \u001b[36m0:00:00\u001b[0m\n",
            "\u001b[?25hDownloading dateparser-1.2.2-py3-none-any.whl (315 kB)\n",
            "\u001b[2K   \u001b[90m━━━━━━━━━━━━━━━━━━━━━━━━━━━━━━━━━━━━━━━━\u001b[0m \u001b[32m315.5/315.5 kB\u001b[0m \u001b[31m16.6 MB/s\u001b[0m eta \u001b[36m0:00:00\u001b[0m\n",
            "\u001b[?25hDownloading pycryptodome-3.23.0-cp37-abi3-manylinux_2_17_x86_64.manylinux2014_x86_64.whl (2.3 MB)\n",
            "\u001b[2K   \u001b[90m━━━━━━━━━━━━━━━━━━━━━━━━━━━━━━━━━━━━━━━━\u001b[0m \u001b[32m2.3/2.3 MB\u001b[0m \u001b[31m59.2 MB/s\u001b[0m eta \u001b[36m0:00:00\u001b[0m\n",
            "\u001b[?25hInstalling collected packages: pycryptodome, dateparser, python-binance\n",
            "Successfully installed dateparser-1.2.2 pycryptodome-3.23.0 python-binance-1.0.29\n"
          ]
        }
      ],
      "source": [
        "!pip install python-binance"
      ]
    },
    {
      "cell_type": "code",
      "source": [
        "from binance.client import Client\n",
        "from binance.enums import *\n",
        "import logging\n",
        "import pandas as pd\n",
        "import datetime"
      ],
      "metadata": {
        "id": "tCvZKrqyvOQg"
      },
      "execution_count": 2,
      "outputs": []
    },
    {
      "cell_type": "code",
      "source": [
        "!pip install ccxt"
      ],
      "metadata": {
        "colab": {
          "base_uri": "https://localhost:8080/"
        },
        "id": "spXKvttv0nQF",
        "outputId": "4e730166-9ea6-4896-f664-f2efee4a247b"
      },
      "execution_count": 7,
      "outputs": [
        {
          "output_type": "stream",
          "name": "stdout",
          "text": [
            "Collecting ccxt\n",
            "  Downloading ccxt-4.4.92-py2.py3-none-any.whl.metadata (131 kB)\n",
            "\u001b[?25l     \u001b[90m━━━━━━━━━━━━━━━━━━━━━━━━━━━━━━━━━━━━━━━━\u001b[0m \u001b[32m0.0/131.6 kB\u001b[0m \u001b[31m?\u001b[0m eta \u001b[36m-:--:--\u001b[0m\r\u001b[2K     \u001b[91m━━━━━━━━━━━━━━━━━━━━━━━━━━━━━━━━━━━━\u001b[0m\u001b[90m╺\u001b[0m\u001b[90m━━\u001b[0m \u001b[32m122.9/131.6 kB\u001b[0m \u001b[31m3.9 MB/s\u001b[0m eta \u001b[36m0:00:01\u001b[0m\r\u001b[2K     \u001b[90m━━━━━━━━━━━━━━━━━━━━━━━━━━━━━━━━━━━━━━━\u001b[0m \u001b[32m131.6/131.6 kB\u001b[0m \u001b[31m2.9 MB/s\u001b[0m eta \u001b[36m0:00:00\u001b[0m\n",
            "\u001b[?25hRequirement already satisfied: setuptools>=60.9.0 in /usr/local/lib/python3.11/dist-packages (from ccxt) (75.2.0)\n",
            "Requirement already satisfied: certifi>=2018.1.18 in /usr/local/lib/python3.11/dist-packages (from ccxt) (2025.6.15)\n",
            "Requirement already satisfied: requests>=2.18.4 in /usr/local/lib/python3.11/dist-packages (from ccxt) (2.32.3)\n",
            "Requirement already satisfied: cryptography>=2.6.1 in /usr/local/lib/python3.11/dist-packages (from ccxt) (43.0.3)\n",
            "Requirement already satisfied: typing-extensions>=4.4.0 in /usr/local/lib/python3.11/dist-packages (from ccxt) (4.14.0)\n",
            "Requirement already satisfied: aiohttp>=3.10.11 in /usr/local/lib/python3.11/dist-packages (from ccxt) (3.11.15)\n",
            "Collecting aiodns>=1.1.1 (from ccxt)\n",
            "  Downloading aiodns-3.5.0-py3-none-any.whl.metadata (5.8 kB)\n",
            "Requirement already satisfied: yarl>=1.7.2 in /usr/local/lib/python3.11/dist-packages (from ccxt) (1.20.1)\n",
            "Collecting pycares>=4.9.0 (from aiodns>=1.1.1->ccxt)\n",
            "  Downloading pycares-4.9.0-cp311-cp311-manylinux_2_17_x86_64.manylinux2014_x86_64.whl.metadata (4.3 kB)\n",
            "Requirement already satisfied: aiohappyeyeballs>=2.3.0 in /usr/local/lib/python3.11/dist-packages (from aiohttp>=3.10.11->ccxt) (2.6.1)\n",
            "Requirement already satisfied: aiosignal>=1.1.2 in /usr/local/lib/python3.11/dist-packages (from aiohttp>=3.10.11->ccxt) (1.3.2)\n",
            "Requirement already satisfied: attrs>=17.3.0 in /usr/local/lib/python3.11/dist-packages (from aiohttp>=3.10.11->ccxt) (25.3.0)\n",
            "Requirement already satisfied: frozenlist>=1.1.1 in /usr/local/lib/python3.11/dist-packages (from aiohttp>=3.10.11->ccxt) (1.7.0)\n",
            "Requirement already satisfied: multidict<7.0,>=4.5 in /usr/local/lib/python3.11/dist-packages (from aiohttp>=3.10.11->ccxt) (6.6.3)\n",
            "Requirement already satisfied: propcache>=0.2.0 in /usr/local/lib/python3.11/dist-packages (from aiohttp>=3.10.11->ccxt) (0.3.2)\n",
            "Requirement already satisfied: cffi>=1.12 in /usr/local/lib/python3.11/dist-packages (from cryptography>=2.6.1->ccxt) (1.17.1)\n",
            "Requirement already satisfied: charset-normalizer<4,>=2 in /usr/local/lib/python3.11/dist-packages (from requests>=2.18.4->ccxt) (3.4.2)\n",
            "Requirement already satisfied: idna<4,>=2.5 in /usr/local/lib/python3.11/dist-packages (from requests>=2.18.4->ccxt) (3.10)\n",
            "Requirement already satisfied: urllib3<3,>=1.21.1 in /usr/local/lib/python3.11/dist-packages (from requests>=2.18.4->ccxt) (2.4.0)\n",
            "Requirement already satisfied: pycparser in /usr/local/lib/python3.11/dist-packages (from cffi>=1.12->cryptography>=2.6.1->ccxt) (2.22)\n",
            "Downloading ccxt-4.4.92-py2.py3-none-any.whl (5.6 MB)\n",
            "\u001b[2K   \u001b[90m━━━━━━━━━━━━━━━━━━━━━━━━━━━━━━━━━━━━━━━━\u001b[0m \u001b[32m5.6/5.6 MB\u001b[0m \u001b[31m64.6 MB/s\u001b[0m eta \u001b[36m0:00:00\u001b[0m\n",
            "\u001b[?25hDownloading aiodns-3.5.0-py3-none-any.whl (8.1 kB)\n",
            "Downloading pycares-4.9.0-cp311-cp311-manylinux_2_17_x86_64.manylinux2014_x86_64.whl (627 kB)\n",
            "\u001b[2K   \u001b[90m━━━━━━━━━━━━━━━━━━━━━━━━━━━━━━━━━━━━━━━━\u001b[0m \u001b[32m628.0/628.0 kB\u001b[0m \u001b[31m43.2 MB/s\u001b[0m eta \u001b[36m0:00:00\u001b[0m\n",
            "\u001b[?25hInstalling collected packages: pycares, aiodns, ccxt\n",
            "Successfully installed aiodns-3.5.0 ccxt-4.4.92 pycares-4.9.0\n"
          ]
        }
      ]
    },
    {
      "cell_type": "code",
      "source": [
        "import ccxt"
      ],
      "metadata": {
        "id": "ESdLQuH01Lpd"
      },
      "execution_count": 8,
      "outputs": []
    },
    {
      "cell_type": "markdown",
      "source": [
        "The following code is to Initialize client for Binance Futures Testnet and test the  connection"
      ],
      "metadata": {
        "id": "G8buVD4bB6St"
      }
    },
    {
      "cell_type": "code",
      "source": [
        "# Enter your API keys & secret here\n",
        "api_key = input(\"Enter your API key: \")\n",
        "api_secret = input(\"Enter your API secret :\")\n",
        "\n",
        "# Initialize client for Binance Futures Testnet\n",
        "client = Client(api_key, api_secret)\n",
        "client.FUTURES_URL = 'https://testnet.binancefuture.com'  # Force testnet URL\n",
        "\n",
        "# To test connection\n",
        "try:\n",
        "    account_info = client.futures_account()\n",
        "    print(\"Connected to Binance Futures Testnet.\")\n",
        "except Exception as e:\n",
        "    print(f\"Connection failed: {e}\")\n"
      ],
      "metadata": {
        "id": "nsS6chlCCXlM"
      },
      "execution_count": null,
      "outputs": []
    },
    {
      "cell_type": "markdown",
      "source": [
        "But this does not work because \\\n",
        "Binance restricts access to Futures APIs in regions like:\n",
        "India(🇮🇳),\n",
        "USA (🇺🇸),\n",
        "Canada (🇨🇦)\n",
        "\n",
        "Due to Binance region restrictions, API calls are simulated using a mock client. Code is fully modular and swappable with Binance client when run from eligible regions."
      ],
      "metadata": {
        "id": "y_wwsdZW5rbE"
      }
    },
    {
      "cell_type": "markdown",
      "source": [
        "-----\n",
        "Building BasicBot Class with Mock API- creatinf a mock Binance client."
      ],
      "metadata": {
        "id": "Ljiivzk6Bwnu"
      }
    },
    {
      "cell_type": "code",
      "source": [
        "import random\n",
        "import time\n",
        "\n",
        "class MockBinanceClient:\n",
        "    def __init__(self, api_key, api_secret):\n",
        "        self.api_key = api_key\n",
        "        self.api_secret = api_secret\n",
        "        print(\"MockBinanceClient initialized.\")\n",
        "\n",
        "    def futures_account(self):\n",
        "        # Simulate account info\n",
        "        return {\n",
        "            'assets': [{'asset': 'USDT', 'walletBalance': '1000'}],\n",
        "            'totalWalletBalance': '1000'\n",
        "        }\n",
        "\n",
        "    def futures_create_order(self, symbol, side, type, quantity, price=None, timeInForce=None):\n",
        "        # Simulate order execution\n",
        "        order_id = random.randint(100000, 999999)\n",
        "        status = \"FILLED\" if type == \"MARKET\" else \"NEW\"\n",
        "        return {\n",
        "            \"symbol\": symbol,\n",
        "            \"orderId\": order_id,\n",
        "            \"status\": status,\n",
        "            \"side\": side,\n",
        "            \"type\": type,\n",
        "            \"quantity\": quantity,\n",
        "            \"price\": price if price else \"market price\",\n",
        "            \"timestamp\": int(time.time() * 1000)\n",
        "        }\n"
      ],
      "metadata": {
        "id": "uL22ivzW2wRf"
      },
      "execution_count": 13,
      "outputs": []
    },
    {
      "cell_type": "markdown",
      "source": [
        "BasicBot Class with Logging"
      ],
      "metadata": {
        "id": "W7j5Tx8YC9o-"
      }
    },
    {
      "cell_type": "code",
      "source": [
        "import logging\n",
        "import os\n",
        "import pandas as pd\n",
        "from datetime import datetime\n",
        "\n",
        "class BasicBot:\n",
        "    def __init__(self, api_key, api_secret, client_class=MockBinanceClient):\n",
        "        self.client = client_class(api_key, api_secret)\n",
        "        self.log_file = 'csv_files/order_logs.csv'\n",
        "        self.orders = []\n",
        "        self.setup_logging()\n",
        "\n",
        "    def setup_logging(self):\n",
        "        os.makedirs('csv_files', exist_ok=True)\n",
        "        logging.basicConfig(\n",
        "            filename=self.log_file,\n",
        "            level=logging.INFO,\n",
        "            format='%(asctime)s,%(levelname)s,%(message)s'\n",
        "        )\n",
        "        print(\"Logging initialized.\")\n",
        "\n",
        "    def place_order(self, symbol, side, order_type, quantity, price=None):\n",
        "        try:\n",
        "            order = self.client.futures_create_order(\n",
        "                symbol=symbol,\n",
        "                side=side.upper(),\n",
        "                type=order_type.upper(),\n",
        "                quantity=quantity,\n",
        "                price=price,\n",
        "                timeInForce=\"GTC\" if order_type.upper() == \"LIMIT\" else None\n",
        "            )\n",
        "            self.orders.append(order)\n",
        "            logging.info(f\"SUCCESS: {order}\")\n",
        "            print(f\"Order simulated: {order}\")\n",
        "        except Exception as e:\n",
        "            logging.error(f\"ERROR: {str(e)}\")\n",
        "            print(f\"Order simulation failed: {e}\")\n",
        "\n",
        "    def export_orders(self):\n",
        "        df = pd.DataFrame(self.orders)\n",
        "        df.to_csv(self.log_file, index=False)\n",
        "        print(\"Orders saved to:\", self.log_file)\n"
      ],
      "metadata": {
        "id": "AqCaEMxI3EHt"
      },
      "execution_count": 14,
      "outputs": []
    },
    {
      "cell_type": "markdown",
      "source": [
        " Simulating CLI Inputs in Colab"
      ],
      "metadata": {
        "id": "72ouoTm9DJ6s"
      }
    },
    {
      "cell_type": "code",
      "source": [
        "# Initialize bot with mock client\n",
        "api_key = input(\"Enter your API key :\")\n",
        "api_secret = input(\"Enter your API secret :\")\n",
        "bot = BasicBot(api_key, api_secret)\n",
        "\n",
        "# Simulate user input\n",
        "symbol = input(\"Enter trading pair (e.g., BTCUSDT): \")\n",
        "side = input(\"Enter side (BUY/SELL): \")\n",
        "order_type = input(\"Enter order type (MARKET/LIMIT): \")\n",
        "quantity = float(input(\"Enter quantity: \"))\n",
        "price = float(input(\"Enter price (only for LIMIT orders, enter 0 if MARKET): \")) if order_type.upper() == \"LIMIT\" else None\n",
        "\n",
        "bot.place_order(symbol, side, order_type, quantity, price)\n",
        "bot.export_orders()\n"
      ],
      "metadata": {
        "colab": {
          "base_uri": "https://localhost:8080/"
        },
        "id": "eLNNEmih3JO8",
        "outputId": "e83086a7-b99d-43af-88ee-31700e664cfe"
      },
      "execution_count": 16,
      "outputs": [
        {
          "output_type": "stream",
          "name": "stdout",
          "text": [
            "MockBinanceClient initialized.\n",
            "Logging initialized.\n",
            "Enter trading pair (e.g., BTCUSDT): BTCUSDT\n",
            "Enter side (BUY/SELL): SELL\n",
            "Enter order type (MARKET/LIMIT): MARKET\n",
            "Enter quantity: 1\n",
            "Order simulated: {'symbol': 'BTCUSDT', 'orderId': 813100, 'status': 'FILLED', 'side': 'SELL', 'type': 'MARKET', 'quantity': 1.0, 'price': 'market price', 'timestamp': 1752042693323}\n",
            "Orders saved to: csv_files/order_logs.csv\n"
          ]
        }
      ]
    },
    {
      "cell_type": "code",
      "source": [
        "pd.read_csv('csv_files/order_logs.csv')\n"
      ],
      "metadata": {
        "colab": {
          "base_uri": "https://localhost:8080/",
          "height": 81
        },
        "id": "HONdPc253JMV",
        "outputId": "e9de14c6-7a72-40e5-b37b-20f56c096657"
      },
      "execution_count": 17,
      "outputs": [
        {
          "output_type": "execute_result",
          "data": {
            "text/plain": [
              "    symbol  orderId  status  side    type  quantity         price  \\\n",
              "0  BTCUSDT   813100  FILLED  SELL  MARKET       1.0  market price   \n",
              "\n",
              "       timestamp  \n",
              "0  1752042693323  "
            ],
            "text/html": [
              "\n",
              "  <div id=\"df-4bdf199f-d214-48b7-a6cb-45c5bf060707\" class=\"colab-df-container\">\n",
              "    <div>\n",
              "<style scoped>\n",
              "    .dataframe tbody tr th:only-of-type {\n",
              "        vertical-align: middle;\n",
              "    }\n",
              "\n",
              "    .dataframe tbody tr th {\n",
              "        vertical-align: top;\n",
              "    }\n",
              "\n",
              "    .dataframe thead th {\n",
              "        text-align: right;\n",
              "    }\n",
              "</style>\n",
              "<table border=\"1\" class=\"dataframe\">\n",
              "  <thead>\n",
              "    <tr style=\"text-align: right;\">\n",
              "      <th></th>\n",
              "      <th>symbol</th>\n",
              "      <th>orderId</th>\n",
              "      <th>status</th>\n",
              "      <th>side</th>\n",
              "      <th>type</th>\n",
              "      <th>quantity</th>\n",
              "      <th>price</th>\n",
              "      <th>timestamp</th>\n",
              "    </tr>\n",
              "  </thead>\n",
              "  <tbody>\n",
              "    <tr>\n",
              "      <th>0</th>\n",
              "      <td>BTCUSDT</td>\n",
              "      <td>813100</td>\n",
              "      <td>FILLED</td>\n",
              "      <td>SELL</td>\n",
              "      <td>MARKET</td>\n",
              "      <td>1.0</td>\n",
              "      <td>market price</td>\n",
              "      <td>1752042693323</td>\n",
              "    </tr>\n",
              "  </tbody>\n",
              "</table>\n",
              "</div>\n",
              "    <div class=\"colab-df-buttons\">\n",
              "\n",
              "  <div class=\"colab-df-container\">\n",
              "    <button class=\"colab-df-convert\" onclick=\"convertToInteractive('df-4bdf199f-d214-48b7-a6cb-45c5bf060707')\"\n",
              "            title=\"Convert this dataframe to an interactive table.\"\n",
              "            style=\"display:none;\">\n",
              "\n",
              "  <svg xmlns=\"http://www.w3.org/2000/svg\" height=\"24px\" viewBox=\"0 -960 960 960\">\n",
              "    <path d=\"M120-120v-720h720v720H120Zm60-500h600v-160H180v160Zm220 220h160v-160H400v160Zm0 220h160v-160H400v160ZM180-400h160v-160H180v160Zm440 0h160v-160H620v160ZM180-180h160v-160H180v160Zm440 0h160v-160H620v160Z\"/>\n",
              "  </svg>\n",
              "    </button>\n",
              "\n",
              "  <style>\n",
              "    .colab-df-container {\n",
              "      display:flex;\n",
              "      gap: 12px;\n",
              "    }\n",
              "\n",
              "    .colab-df-convert {\n",
              "      background-color: #E8F0FE;\n",
              "      border: none;\n",
              "      border-radius: 50%;\n",
              "      cursor: pointer;\n",
              "      display: none;\n",
              "      fill: #1967D2;\n",
              "      height: 32px;\n",
              "      padding: 0 0 0 0;\n",
              "      width: 32px;\n",
              "    }\n",
              "\n",
              "    .colab-df-convert:hover {\n",
              "      background-color: #E2EBFA;\n",
              "      box-shadow: 0px 1px 2px rgba(60, 64, 67, 0.3), 0px 1px 3px 1px rgba(60, 64, 67, 0.15);\n",
              "      fill: #174EA6;\n",
              "    }\n",
              "\n",
              "    .colab-df-buttons div {\n",
              "      margin-bottom: 4px;\n",
              "    }\n",
              "\n",
              "    [theme=dark] .colab-df-convert {\n",
              "      background-color: #3B4455;\n",
              "      fill: #D2E3FC;\n",
              "    }\n",
              "\n",
              "    [theme=dark] .colab-df-convert:hover {\n",
              "      background-color: #434B5C;\n",
              "      box-shadow: 0px 1px 3px 1px rgba(0, 0, 0, 0.15);\n",
              "      filter: drop-shadow(0px 1px 2px rgba(0, 0, 0, 0.3));\n",
              "      fill: #FFFFFF;\n",
              "    }\n",
              "  </style>\n",
              "\n",
              "    <script>\n",
              "      const buttonEl =\n",
              "        document.querySelector('#df-4bdf199f-d214-48b7-a6cb-45c5bf060707 button.colab-df-convert');\n",
              "      buttonEl.style.display =\n",
              "        google.colab.kernel.accessAllowed ? 'block' : 'none';\n",
              "\n",
              "      async function convertToInteractive(key) {\n",
              "        const element = document.querySelector('#df-4bdf199f-d214-48b7-a6cb-45c5bf060707');\n",
              "        const dataTable =\n",
              "          await google.colab.kernel.invokeFunction('convertToInteractive',\n",
              "                                                    [key], {});\n",
              "        if (!dataTable) return;\n",
              "\n",
              "        const docLinkHtml = 'Like what you see? Visit the ' +\n",
              "          '<a target=\"_blank\" href=https://colab.research.google.com/notebooks/data_table.ipynb>data table notebook</a>'\n",
              "          + ' to learn more about interactive tables.';\n",
              "        element.innerHTML = '';\n",
              "        dataTable['output_type'] = 'display_data';\n",
              "        await google.colab.output.renderOutput(dataTable, element);\n",
              "        const docLink = document.createElement('div');\n",
              "        docLink.innerHTML = docLinkHtml;\n",
              "        element.appendChild(docLink);\n",
              "      }\n",
              "    </script>\n",
              "  </div>\n",
              "\n",
              "\n",
              "    </div>\n",
              "  </div>\n"
            ],
            "application/vnd.google.colaboratory.intrinsic+json": {
              "type": "dataframe",
              "summary": "{\n  \"name\": \"pd\",\n  \"rows\": 1,\n  \"fields\": [\n    {\n      \"column\": \"symbol\",\n      \"properties\": {\n        \"dtype\": \"string\",\n        \"num_unique_values\": 1,\n        \"samples\": [\n          \"BTCUSDT\"\n        ],\n        \"semantic_type\": \"\",\n        \"description\": \"\"\n      }\n    },\n    {\n      \"column\": \"orderId\",\n      \"properties\": {\n        \"dtype\": \"number\",\n        \"std\": null,\n        \"min\": 813100,\n        \"max\": 813100,\n        \"num_unique_values\": 1,\n        \"samples\": [\n          813100\n        ],\n        \"semantic_type\": \"\",\n        \"description\": \"\"\n      }\n    },\n    {\n      \"column\": \"status\",\n      \"properties\": {\n        \"dtype\": \"string\",\n        \"num_unique_values\": 1,\n        \"samples\": [\n          \"FILLED\"\n        ],\n        \"semantic_type\": \"\",\n        \"description\": \"\"\n      }\n    },\n    {\n      \"column\": \"side\",\n      \"properties\": {\n        \"dtype\": \"string\",\n        \"num_unique_values\": 1,\n        \"samples\": [\n          \"SELL\"\n        ],\n        \"semantic_type\": \"\",\n        \"description\": \"\"\n      }\n    },\n    {\n      \"column\": \"type\",\n      \"properties\": {\n        \"dtype\": \"string\",\n        \"num_unique_values\": 1,\n        \"samples\": [\n          \"MARKET\"\n        ],\n        \"semantic_type\": \"\",\n        \"description\": \"\"\n      }\n    },\n    {\n      \"column\": \"quantity\",\n      \"properties\": {\n        \"dtype\": \"number\",\n        \"std\": null,\n        \"min\": 1.0,\n        \"max\": 1.0,\n        \"num_unique_values\": 1,\n        \"samples\": [\n          1.0\n        ],\n        \"semantic_type\": \"\",\n        \"description\": \"\"\n      }\n    },\n    {\n      \"column\": \"price\",\n      \"properties\": {\n        \"dtype\": \"string\",\n        \"num_unique_values\": 1,\n        \"samples\": [\n          \"market price\"\n        ],\n        \"semantic_type\": \"\",\n        \"description\": \"\"\n      }\n    },\n    {\n      \"column\": \"timestamp\",\n      \"properties\": {\n        \"dtype\": \"number\",\n        \"std\": null,\n        \"min\": 1752042693323,\n        \"max\": 1752042693323,\n        \"num_unique_values\": 1,\n        \"samples\": [\n          1752042693323\n        ],\n        \"semantic_type\": \"\",\n        \"description\": \"\"\n      }\n    }\n  ]\n}"
            }
          },
          "metadata": {},
          "execution_count": 17
        }
      ]
    },
    {
      "cell_type": "code",
      "source": [
        "from google.colab import files\n",
        "files.download('csv_files/order_logs.csv')"
      ],
      "metadata": {
        "colab": {
          "base_uri": "https://localhost:8080/",
          "height": 17
        },
        "id": "h5qqIiP35MKZ",
        "outputId": "b927e46c-4ebd-4432-b0cf-0ddfdf5a6df0"
      },
      "execution_count": 18,
      "outputs": [
        {
          "output_type": "display_data",
          "data": {
            "text/plain": [
              "<IPython.core.display.Javascript object>"
            ],
            "application/javascript": [
              "\n",
              "    async function download(id, filename, size) {\n",
              "      if (!google.colab.kernel.accessAllowed) {\n",
              "        return;\n",
              "      }\n",
              "      const div = document.createElement('div');\n",
              "      const label = document.createElement('label');\n",
              "      label.textContent = `Downloading \"${filename}\": `;\n",
              "      div.appendChild(label);\n",
              "      const progress = document.createElement('progress');\n",
              "      progress.max = size;\n",
              "      div.appendChild(progress);\n",
              "      document.body.appendChild(div);\n",
              "\n",
              "      const buffers = [];\n",
              "      let downloaded = 0;\n",
              "\n",
              "      const channel = await google.colab.kernel.comms.open(id);\n",
              "      // Send a message to notify the kernel that we're ready.\n",
              "      channel.send({})\n",
              "\n",
              "      for await (const message of channel.messages) {\n",
              "        // Send a message to notify the kernel that we're ready.\n",
              "        channel.send({})\n",
              "        if (message.buffers) {\n",
              "          for (const buffer of message.buffers) {\n",
              "            buffers.push(buffer);\n",
              "            downloaded += buffer.byteLength;\n",
              "            progress.value = downloaded;\n",
              "          }\n",
              "        }\n",
              "      }\n",
              "      const blob = new Blob(buffers, {type: 'application/binary'});\n",
              "      const a = document.createElement('a');\n",
              "      a.href = window.URL.createObjectURL(blob);\n",
              "      a.download = filename;\n",
              "      div.appendChild(a);\n",
              "      a.click();\n",
              "      div.remove();\n",
              "    }\n",
              "  "
            ]
          },
          "metadata": {}
        },
        {
          "output_type": "display_data",
          "data": {
            "text/plain": [
              "<IPython.core.display.Javascript object>"
            ],
            "application/javascript": [
              "download(\"download_8e2aaa7c-39c2-4775-9654-4eb462d22c79\", \"order_logs.csv\", 122)"
            ]
          },
          "metadata": {}
        }
      ]
    },
    {
      "cell_type": "markdown",
      "source": [
        "Advanced Order Types (Stop-Limit + Optional OCO)"
      ],
      "metadata": {
        "id": "uVVCtZLD6LHN"
      }
    },
    {
      "cell_type": "markdown",
      "source": [
        "Extending the **MockBinanceClient** to Simulate Stop-Limit\n",
        "\n",
        "improved & modified **MockBinanceClient** code"
      ],
      "metadata": {
        "id": "j9KK34as6-LW"
      }
    },
    {
      "cell_type": "code",
      "source": [
        "import random\n",
        "import time\n",
        "\n",
        "class MockBinanceClient:\n",
        "    def __init__(self, api_key, api_secret):\n",
        "        self.api_key = api_key\n",
        "        self.api_secret = api_secret\n",
        "        print(\"MockBinanceClient initialized.\")\n",
        "\n",
        "    def futures_account(self):\n",
        "        # Simulate account info\n",
        "        return {\n",
        "            'assets': [{'asset': 'USDT', 'walletBalance': '1000'}],\n",
        "            'totalWalletBalance': '1000'\n",
        "        }\n",
        "\n",
        "    def futures_create_order(self, symbol, side, type, quantity, price=None, stopPrice=None, timeInForce=None):\n",
        "        order_id = random.randint(100000, 999999)\n",
        "        status = \"TRIGGERED\" if type in [\"STOP_MARKET\", \"STOP\"] else \"FILLED\"\n",
        "        return {\n",
        "            \"symbol\": symbol,\n",
        "            \"orderId\": order_id,\n",
        "            \"status\": status,\n",
        "            \"side\": side,\n",
        "            \"type\": type,\n",
        "            \"quantity\": quantity,\n",
        "            \"price\": price if price else \"market price\",\n",
        "            \"stopPrice\": stopPrice,\n",
        "            \"timeInForce\": timeInForce,\n",
        "            \"timestamp\": int(time.time() * 1000)\n",
        "        }"
      ],
      "metadata": {
        "id": "lgHEICGB6Nwn"
      },
      "execution_count": 20,
      "outputs": []
    },
    {
      "cell_type": "markdown",
      "source": [
        "updated and modified **BasicBot**  class to Support Stop-Limit.\n"
      ],
      "metadata": {
        "id": "eA5JEoIa9BbO"
      }
    },
    {
      "cell_type": "code",
      "source": [
        "import logging\n",
        "import os\n",
        "import pandas as pd\n",
        "from datetime import datetime\n",
        "\n",
        "class BasicBot:\n",
        "    def __init__(self, api_key, api_secret, client_class=MockBinanceClient):\n",
        "        self.client = client_class(api_key, api_secret)\n",
        "        self.log_file = 'csv_files/order_logs.csv'\n",
        "        self.orders = []\n",
        "        self.setup_logging()\n",
        "\n",
        "    def setup_logging(self):\n",
        "        os.makedirs('csv_files', exist_ok=True)\n",
        "        logging.basicConfig(\n",
        "            filename=self.log_file,\n",
        "            level=logging.INFO,\n",
        "            format='%(asctime)s,%(levelname)s,%(message)s'\n",
        "        )\n",
        "        print(\"Logging initialized.\")\n",
        "\n",
        "    def place_order(self, symbol, side, order_type, quantity, price=None, stop_price=None):\n",
        "        try:\n",
        "            params = {\n",
        "                'symbol': symbol,\n",
        "                'side': side.upper(),\n",
        "                'type': order_type.upper(),\n",
        "                'quantity': quantity,\n",
        "                'price': price if order_type.upper() in ['LIMIT', 'STOP'] else None,\n",
        "                'stopPrice': stop_price if order_type.upper() in ['STOP', 'STOP_MARKET'] else None,\n",
        "                'timeInForce': \"GTC\" if order_type.upper() in ['LIMIT', 'STOP'] else None\n",
        "            }\n",
        "\n",
        "\n",
        "            clean_params = {k: v for k, v in params.items() if v is not None}\n",
        "            order = self.client.futures_create_order(**clean_params)\n",
        "\n",
        "            self.orders.append(order)\n",
        "            logging.info(f\"SUCCESS: {order}\")\n",
        "            print(f\"Order simulated: {order}\")\n",
        "        except Exception as e:\n",
        "            logging.error(f\"ERROR: {str(e)}\")\n",
        "            print(f\"Order simulation failed: {e}\")\n",
        "\n",
        "    def export_orders(self):\n",
        "        df = pd.DataFrame(self.orders)\n",
        "        df.to_csv(self.log_file, index=False)\n",
        "        print(\"Orders saved to:\", self.log_file)\n"
      ],
      "metadata": {
        "id": "b_D552eX5MFm"
      },
      "execution_count": 21,
      "outputs": []
    },
    {
      "cell_type": "markdown",
      "source": [
        "Update CLI Code to Accept Stop Price"
      ],
      "metadata": {
        "id": "jMY3kgx3D_6l"
      }
    },
    {
      "cell_type": "code",
      "source": [
        "# Initialize bot with mock client\n",
        "api_key = input(\"Enter your API key: \")\n",
        "api_secret = input(\"Enter your API secret :\")\n",
        "bot = BasicBot(api_key, api_secret)\n",
        "\n",
        "# Simulate user input with stop-limit support\n",
        "symbol = input(\"Enter trading pair (e.g., BTCUSDT): \")\n",
        "side = input(\"Enter side (BUY/SELL): \")\n",
        "order_type = input(\"Enter order type (MARKET/LIMIT/STOP): \").upper()\n",
        "quantity = float(input(\"Enter quantity: \"))\n",
        "\n",
        "price = None\n",
        "stop_price = None\n",
        "\n",
        "if order_type == \"LIMIT\":\n",
        "    price = float(input(\"Enter LIMIT price: \"))\n",
        "elif order_type == \"STOP\":\n",
        "    stop_price = float(input(\"Enter STOP trigger price: \"))\n",
        "    price = float(input(\"Enter LIMIT price (executed once stop triggers): \"))\n",
        "\n",
        "bot.place_order(symbol, side, order_type, quantity, price=price, stop_price=stop_price)\n",
        "bot.export_orders()\n"
      ],
      "metadata": {
        "colab": {
          "base_uri": "https://localhost:8080/"
        },
        "id": "4-9zCKTW9F57",
        "outputId": "32fc7a60-f565-4846-abf5-a83df81233f2"
      },
      "execution_count": 23,
      "outputs": [
        {
          "output_type": "stream",
          "name": "stdout",
          "text": [
            "Enter your API key: 25da1f790c1bc15e118c4b40d1fe1a90d0eb4fa4fd50dc1c7637226b5840944a\n",
            "Enter your API secret :f498906421abeba18fbc6fc6d4381ebc1bc10a0d94718e66332e09c4fca4e863\n",
            "MockBinanceClient initialized.\n",
            "Logging initialized.\n",
            "Enter trading pair (e.g., BTCUSDT): BTCUSDT\n",
            "Enter side (BUY/SELL): SELL\n",
            "Enter order type (MARKET/LIMIT/STOP): STOP\n",
            "Enter quantity: 1\n",
            "Enter STOP trigger price: 60000\n",
            "Enter LIMIT price (executed once stop triggers): 59800\n",
            "Order simulated: {'symbol': 'BTCUSDT', 'orderId': 334223, 'status': 'TRIGGERED', 'side': 'SELL', 'type': 'STOP', 'quantity': 1.0, 'price': 59800.0, 'stopPrice': 60000.0, 'timeInForce': 'GTC', 'timestamp': 1752044224403}\n",
            "Orders saved to: csv_files/order_logs.csv\n"
          ]
        }
      ]
    },
    {
      "cell_type": "code",
      "source": [
        "pd.read_csv('csv_files/order_logs.csv')\n"
      ],
      "metadata": {
        "colab": {
          "base_uri": "https://localhost:8080/",
          "height": 81
        },
        "id": "--bDhiXF6NuA",
        "outputId": "299bdd60-1b60-4225-e2f3-4052af1a9aa0"
      },
      "execution_count": 24,
      "outputs": [
        {
          "output_type": "execute_result",
          "data": {
            "text/plain": [
              "    symbol  orderId     status  side  type  quantity    price  stopPrice  \\\n",
              "0  BTCUSDT   334223  TRIGGERED  SELL  STOP       1.0  59800.0    60000.0   \n",
              "\n",
              "  timeInForce      timestamp  \n",
              "0         GTC  1752044224403  "
            ],
            "text/html": [
              "\n",
              "  <div id=\"df-13b1a61b-c02a-47f2-bf7f-ae0d01ca10ac\" class=\"colab-df-container\">\n",
              "    <div>\n",
              "<style scoped>\n",
              "    .dataframe tbody tr th:only-of-type {\n",
              "        vertical-align: middle;\n",
              "    }\n",
              "\n",
              "    .dataframe tbody tr th {\n",
              "        vertical-align: top;\n",
              "    }\n",
              "\n",
              "    .dataframe thead th {\n",
              "        text-align: right;\n",
              "    }\n",
              "</style>\n",
              "<table border=\"1\" class=\"dataframe\">\n",
              "  <thead>\n",
              "    <tr style=\"text-align: right;\">\n",
              "      <th></th>\n",
              "      <th>symbol</th>\n",
              "      <th>orderId</th>\n",
              "      <th>status</th>\n",
              "      <th>side</th>\n",
              "      <th>type</th>\n",
              "      <th>quantity</th>\n",
              "      <th>price</th>\n",
              "      <th>stopPrice</th>\n",
              "      <th>timeInForce</th>\n",
              "      <th>timestamp</th>\n",
              "    </tr>\n",
              "  </thead>\n",
              "  <tbody>\n",
              "    <tr>\n",
              "      <th>0</th>\n",
              "      <td>BTCUSDT</td>\n",
              "      <td>334223</td>\n",
              "      <td>TRIGGERED</td>\n",
              "      <td>SELL</td>\n",
              "      <td>STOP</td>\n",
              "      <td>1.0</td>\n",
              "      <td>59800.0</td>\n",
              "      <td>60000.0</td>\n",
              "      <td>GTC</td>\n",
              "      <td>1752044224403</td>\n",
              "    </tr>\n",
              "  </tbody>\n",
              "</table>\n",
              "</div>\n",
              "    <div class=\"colab-df-buttons\">\n",
              "\n",
              "  <div class=\"colab-df-container\">\n",
              "    <button class=\"colab-df-convert\" onclick=\"convertToInteractive('df-13b1a61b-c02a-47f2-bf7f-ae0d01ca10ac')\"\n",
              "            title=\"Convert this dataframe to an interactive table.\"\n",
              "            style=\"display:none;\">\n",
              "\n",
              "  <svg xmlns=\"http://www.w3.org/2000/svg\" height=\"24px\" viewBox=\"0 -960 960 960\">\n",
              "    <path d=\"M120-120v-720h720v720H120Zm60-500h600v-160H180v160Zm220 220h160v-160H400v160Zm0 220h160v-160H400v160ZM180-400h160v-160H180v160Zm440 0h160v-160H620v160ZM180-180h160v-160H180v160Zm440 0h160v-160H620v160Z\"/>\n",
              "  </svg>\n",
              "    </button>\n",
              "\n",
              "  <style>\n",
              "    .colab-df-container {\n",
              "      display:flex;\n",
              "      gap: 12px;\n",
              "    }\n",
              "\n",
              "    .colab-df-convert {\n",
              "      background-color: #E8F0FE;\n",
              "      border: none;\n",
              "      border-radius: 50%;\n",
              "      cursor: pointer;\n",
              "      display: none;\n",
              "      fill: #1967D2;\n",
              "      height: 32px;\n",
              "      padding: 0 0 0 0;\n",
              "      width: 32px;\n",
              "    }\n",
              "\n",
              "    .colab-df-convert:hover {\n",
              "      background-color: #E2EBFA;\n",
              "      box-shadow: 0px 1px 2px rgba(60, 64, 67, 0.3), 0px 1px 3px 1px rgba(60, 64, 67, 0.15);\n",
              "      fill: #174EA6;\n",
              "    }\n",
              "\n",
              "    .colab-df-buttons div {\n",
              "      margin-bottom: 4px;\n",
              "    }\n",
              "\n",
              "    [theme=dark] .colab-df-convert {\n",
              "      background-color: #3B4455;\n",
              "      fill: #D2E3FC;\n",
              "    }\n",
              "\n",
              "    [theme=dark] .colab-df-convert:hover {\n",
              "      background-color: #434B5C;\n",
              "      box-shadow: 0px 1px 3px 1px rgba(0, 0, 0, 0.15);\n",
              "      filter: drop-shadow(0px 1px 2px rgba(0, 0, 0, 0.3));\n",
              "      fill: #FFFFFF;\n",
              "    }\n",
              "  </style>\n",
              "\n",
              "    <script>\n",
              "      const buttonEl =\n",
              "        document.querySelector('#df-13b1a61b-c02a-47f2-bf7f-ae0d01ca10ac button.colab-df-convert');\n",
              "      buttonEl.style.display =\n",
              "        google.colab.kernel.accessAllowed ? 'block' : 'none';\n",
              "\n",
              "      async function convertToInteractive(key) {\n",
              "        const element = document.querySelector('#df-13b1a61b-c02a-47f2-bf7f-ae0d01ca10ac');\n",
              "        const dataTable =\n",
              "          await google.colab.kernel.invokeFunction('convertToInteractive',\n",
              "                                                    [key], {});\n",
              "        if (!dataTable) return;\n",
              "\n",
              "        const docLinkHtml = 'Like what you see? Visit the ' +\n",
              "          '<a target=\"_blank\" href=https://colab.research.google.com/notebooks/data_table.ipynb>data table notebook</a>'\n",
              "          + ' to learn more about interactive tables.';\n",
              "        element.innerHTML = '';\n",
              "        dataTable['output_type'] = 'display_data';\n",
              "        await google.colab.output.renderOutput(dataTable, element);\n",
              "        const docLink = document.createElement('div');\n",
              "        docLink.innerHTML = docLinkHtml;\n",
              "        element.appendChild(docLink);\n",
              "      }\n",
              "    </script>\n",
              "  </div>\n",
              "\n",
              "\n",
              "    </div>\n",
              "  </div>\n"
            ],
            "application/vnd.google.colaboratory.intrinsic+json": {
              "type": "dataframe",
              "summary": "{\n  \"name\": \"pd\",\n  \"rows\": 1,\n  \"fields\": [\n    {\n      \"column\": \"symbol\",\n      \"properties\": {\n        \"dtype\": \"string\",\n        \"num_unique_values\": 1,\n        \"samples\": [\n          \"BTCUSDT\"\n        ],\n        \"semantic_type\": \"\",\n        \"description\": \"\"\n      }\n    },\n    {\n      \"column\": \"orderId\",\n      \"properties\": {\n        \"dtype\": \"number\",\n        \"std\": null,\n        \"min\": 334223,\n        \"max\": 334223,\n        \"num_unique_values\": 1,\n        \"samples\": [\n          334223\n        ],\n        \"semantic_type\": \"\",\n        \"description\": \"\"\n      }\n    },\n    {\n      \"column\": \"status\",\n      \"properties\": {\n        \"dtype\": \"string\",\n        \"num_unique_values\": 1,\n        \"samples\": [\n          \"TRIGGERED\"\n        ],\n        \"semantic_type\": \"\",\n        \"description\": \"\"\n      }\n    },\n    {\n      \"column\": \"side\",\n      \"properties\": {\n        \"dtype\": \"string\",\n        \"num_unique_values\": 1,\n        \"samples\": [\n          \"SELL\"\n        ],\n        \"semantic_type\": \"\",\n        \"description\": \"\"\n      }\n    },\n    {\n      \"column\": \"type\",\n      \"properties\": {\n        \"dtype\": \"string\",\n        \"num_unique_values\": 1,\n        \"samples\": [\n          \"STOP\"\n        ],\n        \"semantic_type\": \"\",\n        \"description\": \"\"\n      }\n    },\n    {\n      \"column\": \"quantity\",\n      \"properties\": {\n        \"dtype\": \"number\",\n        \"std\": null,\n        \"min\": 1.0,\n        \"max\": 1.0,\n        \"num_unique_values\": 1,\n        \"samples\": [\n          1.0\n        ],\n        \"semantic_type\": \"\",\n        \"description\": \"\"\n      }\n    },\n    {\n      \"column\": \"price\",\n      \"properties\": {\n        \"dtype\": \"number\",\n        \"std\": null,\n        \"min\": 59800.0,\n        \"max\": 59800.0,\n        \"num_unique_values\": 1,\n        \"samples\": [\n          59800.0\n        ],\n        \"semantic_type\": \"\",\n        \"description\": \"\"\n      }\n    },\n    {\n      \"column\": \"stopPrice\",\n      \"properties\": {\n        \"dtype\": \"number\",\n        \"std\": null,\n        \"min\": 60000.0,\n        \"max\": 60000.0,\n        \"num_unique_values\": 1,\n        \"samples\": [\n          60000.0\n        ],\n        \"semantic_type\": \"\",\n        \"description\": \"\"\n      }\n    },\n    {\n      \"column\": \"timeInForce\",\n      \"properties\": {\n        \"dtype\": \"string\",\n        \"num_unique_values\": 1,\n        \"samples\": [\n          \"GTC\"\n        ],\n        \"semantic_type\": \"\",\n        \"description\": \"\"\n      }\n    },\n    {\n      \"column\": \"timestamp\",\n      \"properties\": {\n        \"dtype\": \"number\",\n        \"std\": null,\n        \"min\": 1752044224403,\n        \"max\": 1752044224403,\n        \"num_unique_values\": 1,\n        \"samples\": [\n          1752044224403\n        ],\n        \"semantic_type\": \"\",\n        \"description\": \"\"\n      }\n    }\n  ]\n}"
            }
          },
          "metadata": {},
          "execution_count": 24
        }
      ]
    },
    {
      "cell_type": "markdown",
      "source": [
        "saving csv files locally"
      ],
      "metadata": {
        "id": "9DTb1DyEEBp-"
      }
    },
    {
      "cell_type": "code",
      "source": [
        "from google.colab import files\n",
        "files.download('csv_files/order_logs.csv')"
      ],
      "metadata": {
        "colab": {
          "base_uri": "https://localhost:8080/",
          "height": 17
        },
        "id": "pPmXyE0z-n20",
        "outputId": "71d02510-ac93-45a8-e76f-679ab6b8869f"
      },
      "execution_count": 25,
      "outputs": [
        {
          "output_type": "display_data",
          "data": {
            "text/plain": [
              "<IPython.core.display.Javascript object>"
            ],
            "application/javascript": [
              "\n",
              "    async function download(id, filename, size) {\n",
              "      if (!google.colab.kernel.accessAllowed) {\n",
              "        return;\n",
              "      }\n",
              "      const div = document.createElement('div');\n",
              "      const label = document.createElement('label');\n",
              "      label.textContent = `Downloading \"${filename}\": `;\n",
              "      div.appendChild(label);\n",
              "      const progress = document.createElement('progress');\n",
              "      progress.max = size;\n",
              "      div.appendChild(progress);\n",
              "      document.body.appendChild(div);\n",
              "\n",
              "      const buffers = [];\n",
              "      let downloaded = 0;\n",
              "\n",
              "      const channel = await google.colab.kernel.comms.open(id);\n",
              "      // Send a message to notify the kernel that we're ready.\n",
              "      channel.send({})\n",
              "\n",
              "      for await (const message of channel.messages) {\n",
              "        // Send a message to notify the kernel that we're ready.\n",
              "        channel.send({})\n",
              "        if (message.buffers) {\n",
              "          for (const buffer of message.buffers) {\n",
              "            buffers.push(buffer);\n",
              "            downloaded += buffer.byteLength;\n",
              "            progress.value = downloaded;\n",
              "          }\n",
              "        }\n",
              "      }\n",
              "      const blob = new Blob(buffers, {type: 'application/binary'});\n",
              "      const a = document.createElement('a');\n",
              "      a.href = window.URL.createObjectURL(blob);\n",
              "      a.download = filename;\n",
              "      div.appendChild(a);\n",
              "      a.click();\n",
              "      div.remove();\n",
              "    }\n",
              "  "
            ]
          },
          "metadata": {}
        },
        {
          "output_type": "display_data",
          "data": {
            "text/plain": [
              "<IPython.core.display.Javascript object>"
            ],
            "application/javascript": [
              "download(\"download_1a7c7ccb-5109-43cf-9d2d-e87f6c50c104\", \"order_logs.csv\", 152)"
            ]
          },
          "metadata": {}
        }
      ]
    },
    {
      "cell_type": "markdown",
      "source": [
        "Generating Image results of logging (csv data)"
      ],
      "metadata": {
        "id": "STBBcTovLlNP"
      }
    },
    {
      "cell_type": "code",
      "source": [
        "!pip install matplotlib\n"
      ],
      "metadata": {
        "colab": {
          "base_uri": "https://localhost:8080/"
        },
        "id": "SlhoglBwI9YO",
        "outputId": "81a70d5e-c98f-4ab3-977f-eb8041619cec"
      },
      "execution_count": 26,
      "outputs": [
        {
          "output_type": "stream",
          "name": "stdout",
          "text": [
            "Requirement already satisfied: matplotlib in /usr/local/lib/python3.11/dist-packages (3.10.0)\n",
            "Requirement already satisfied: contourpy>=1.0.1 in /usr/local/lib/python3.11/dist-packages (from matplotlib) (1.3.2)\n",
            "Requirement already satisfied: cycler>=0.10 in /usr/local/lib/python3.11/dist-packages (from matplotlib) (0.12.1)\n",
            "Requirement already satisfied: fonttools>=4.22.0 in /usr/local/lib/python3.11/dist-packages (from matplotlib) (4.58.4)\n",
            "Requirement already satisfied: kiwisolver>=1.3.1 in /usr/local/lib/python3.11/dist-packages (from matplotlib) (1.4.8)\n",
            "Requirement already satisfied: numpy>=1.23 in /usr/local/lib/python3.11/dist-packages (from matplotlib) (2.0.2)\n",
            "Requirement already satisfied: packaging>=20.0 in /usr/local/lib/python3.11/dist-packages (from matplotlib) (24.2)\n",
            "Requirement already satisfied: pillow>=8 in /usr/local/lib/python3.11/dist-packages (from matplotlib) (11.2.1)\n",
            "Requirement already satisfied: pyparsing>=2.3.1 in /usr/local/lib/python3.11/dist-packages (from matplotlib) (3.2.3)\n",
            "Requirement already satisfied: python-dateutil>=2.7 in /usr/local/lib/python3.11/dist-packages (from matplotlib) (2.9.0.post0)\n",
            "Requirement already satisfied: six>=1.5 in /usr/local/lib/python3.11/dist-packages (from python-dateutil>=2.7->matplotlib) (1.17.0)\n"
          ]
        }
      ]
    },
    {
      "cell_type": "code",
      "source": [
        "import pandas as pd\n",
        "import matplotlib.pyplot as plt\n",
        "import os\n",
        "\n",
        "# Ensure output directory exists\n",
        "os.makedirs(\"outputs\", exist_ok=True)\n",
        "\n",
        "# Load order logs\n",
        "df = pd.read_csv(\"csv_files/order_logs.csv\")\n",
        "\n",
        "# Count orders per type\n",
        "order_counts = df[\"type\"].value_counts()\n",
        "\n",
        "# Plot\n",
        "plt.figure(figsize=(6, 4))\n",
        "order_counts.plot(kind='bar', color='skyblue')\n",
        "plt.title(\"Order Type Distribution\")\n",
        "plt.xlabel(\"Order Type\")\n",
        "plt.ylabel(\"Number of Orders\")\n",
        "plt.xticks(rotation=0)\n",
        "plt.tight_layout()\n",
        "\n",
        "# Save image\n",
        "plt.savefig(\"outputs/order_summary.png\")\n",
        "plt.show()\n",
        "print(\"Chart saved to outputs/order_summary.png\")\n"
      ],
      "metadata": {
        "colab": {
          "base_uri": "https://localhost:8080/",
          "height": 424
        },
        "id": "9ZJLH7G5I_fh",
        "outputId": "084a5678-0c03-4674-e760-3e0a12ebe6ab"
      },
      "execution_count": 28,
      "outputs": [
        {
          "output_type": "display_data",
          "data": {
            "text/plain": [
              "<Figure size 600x400 with 1 Axes>"
            ],
            "image/png": "[encoded data removed]"
          },
          "metadata": {}
        },
        {
          "output_type": "stream",
          "name": "stdout",
          "text": [
            "Chart saved to outputs/order_summary.png\n"
          ]
        }
      ]
    },
    {
      "cell_type": "code",
      "source": [
        "from google.colab import files\n",
        "files.download('outputs/order_summary.png')"
      ],
      "metadata": {
        "colab": {
          "base_uri": "https://localhost:8080/",
          "height": 17
        },
        "id": "tzG1ESUJJKqd",
        "outputId": "a4b1e12f-de0c-40dc-fcf6-5c5018edec40"
      },
      "execution_count": 30,
      "outputs": [
        {
          "output_type": "display_data",
          "data": {
            "text/plain": [
              "<IPython.core.display.Javascript object>"
            ],
            "application/javascript": [
              "\n",
              "    async function download(id, filename, size) {\n",
              "      if (!google.colab.kernel.accessAllowed) {\n",
              "        return;\n",
              "      }\n",
              "      const div = document.createElement('div');\n",
              "      const label = document.createElement('label');\n",
              "      label.textContent = `Downloading \"${filename}\": `;\n",
              "      div.appendChild(label);\n",
              "      const progress = document.createElement('progress');\n",
              "      progress.max = size;\n",
              "      div.appendChild(progress);\n",
              "      document.body.appendChild(div);\n",
              "\n",
              "      const buffers = [];\n",
              "      let downloaded = 0;\n",
              "\n",
              "      const channel = await google.colab.kernel.comms.open(id);\n",
              "      // Send a message to notify the kernel that we're ready.\n",
              "      channel.send({})\n",
              "\n",
              "      for await (const message of channel.messages) {\n",
              "        // Send a message to notify the kernel that we're ready.\n",
              "        channel.send({})\n",
              "        if (message.buffers) {\n",
              "          for (const buffer of message.buffers) {\n",
              "            buffers.push(buffer);\n",
              "            downloaded += buffer.byteLength;\n",
              "            progress.value = downloaded;\n",
              "          }\n",
              "        }\n",
              "      }\n",
              "      const blob = new Blob(buffers, {type: 'application/binary'});\n",
              "      const a = document.createElement('a');\n",
              "      a.href = window.URL.createObjectURL(blob);\n",
              "      a.download = filename;\n",
              "      div.appendChild(a);\n",
              "      a.click();\n",
              "      div.remove();\n",
              "    }\n",
              "  "
            ]
          },
          "metadata": {}
        },
        {
          "output_type": "display_data",
          "data": {
            "text/plain": [
              "<IPython.core.display.Javascript object>"
            ],
            "application/javascript": [
              "download(\"download_fa3bb8a1-167d-41d2-8ed9-af7001ad65c7\", \"order_summary.png\", 14369)"
            ]
          },
          "metadata": {}
        }
      ]
    },
    {
      "cell_type": "markdown",
      "source": [
        "---- end ----"
      ],
      "metadata": {
        "id": "62YAzSss_CpO"
      }
    }
  ]
}